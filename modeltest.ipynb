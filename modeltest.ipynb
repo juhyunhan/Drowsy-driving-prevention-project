{
 "cells": [
  {
   "cell_type": "code",
   "execution_count": 1,
   "metadata": {},
   "outputs": [
    {
     "name": "stdout",
     "output_type": "stream",
     "text": [
      "Requirement already satisfied: mediapipe in c:\\users\\hjjh2\\anaconda3\\envs\\pytorch\\lib\\site-packages (0.10.1)\n",
      "Requirement already satisfied: opencv-python in c:\\users\\hjjh2\\anaconda3\\envs\\pytorch\\lib\\site-packages (4.8.0.76)\n",
      "Requirement already satisfied: absl-py in c:\\users\\hjjh2\\anaconda3\\envs\\pytorch\\lib\\site-packages (from mediapipe) (1.4.0)\n",
      "Requirement already satisfied: numpy in c:\\users\\hjjh2\\anaconda3\\envs\\pytorch\\lib\\site-packages (from mediapipe) (1.23.1)\n",
      "Requirement already satisfied: attrs>=19.1.0 in c:\\users\\hjjh2\\anaconda3\\envs\\pytorch\\lib\\site-packages (from mediapipe) (22.1.0)\n",
      "Requirement already satisfied: sounddevice>=0.4.4 in c:\\users\\hjjh2\\anaconda3\\envs\\pytorch\\lib\\site-packages (from mediapipe) (0.4.6)\n",
      "Requirement already satisfied: matplotlib in c:\\users\\hjjh2\\anaconda3\\envs\\pytorch\\lib\\site-packages (from mediapipe) (3.7.1)\n",
      "Requirement already satisfied: opencv-contrib-python in c:\\users\\hjjh2\\anaconda3\\envs\\pytorch\\lib\\site-packages (from mediapipe) (4.7.0.72)\n",
      "Requirement already satisfied: flatbuffers>=2.0 in c:\\users\\hjjh2\\anaconda3\\envs\\pytorch\\lib\\site-packages (from mediapipe) (23.5.26)\n",
      "Requirement already satisfied: protobuf<4,>=3.11 in c:\\users\\hjjh2\\anaconda3\\envs\\pytorch\\lib\\site-packages (from mediapipe) (3.20.3)\n",
      "Requirement already satisfied: CFFI>=1.0 in c:\\users\\hjjh2\\anaconda3\\envs\\pytorch\\lib\\site-packages (from sounddevice>=0.4.4->mediapipe) (1.15.1)\n",
      "Requirement already satisfied: fonttools>=4.22.0 in c:\\users\\hjjh2\\anaconda3\\envs\\pytorch\\lib\\site-packages (from matplotlib->mediapipe) (4.25.0)\n",
      "Requirement already satisfied: kiwisolver>=1.0.1 in c:\\users\\hjjh2\\anaconda3\\envs\\pytorch\\lib\\site-packages (from matplotlib->mediapipe) (1.4.2)\n",
      "Requirement already satisfied: pillow>=6.2.0 in c:\\users\\hjjh2\\anaconda3\\envs\\pytorch\\lib\\site-packages (from matplotlib->mediapipe) (9.2.0)\n",
      "Requirement already satisfied: packaging>=20.0 in c:\\users\\hjjh2\\anaconda3\\envs\\pytorch\\lib\\site-packages (from matplotlib->mediapipe) (21.3)\n",
      "Requirement already satisfied: python-dateutil>=2.7 in c:\\users\\hjjh2\\anaconda3\\envs\\pytorch\\lib\\site-packages (from matplotlib->mediapipe) (2.8.2)\n",
      "Requirement already satisfied: pyparsing>=2.3.1 in c:\\users\\hjjh2\\anaconda3\\envs\\pytorch\\lib\\site-packages (from matplotlib->mediapipe) (3.0.9)\n",
      "Requirement already satisfied: importlib-resources>=3.2.0 in c:\\users\\hjjh2\\anaconda3\\envs\\pytorch\\lib\\site-packages (from matplotlib->mediapipe) (5.12.0)\n",
      "Requirement already satisfied: contourpy>=1.0.1 in c:\\users\\hjjh2\\anaconda3\\envs\\pytorch\\lib\\site-packages (from matplotlib->mediapipe) (1.0.7)\n",
      "Requirement already satisfied: cycler>=0.10 in c:\\users\\hjjh2\\anaconda3\\envs\\pytorch\\lib\\site-packages (from matplotlib->mediapipe) (0.11.0)\n",
      "Requirement already satisfied: pycparser in c:\\users\\hjjh2\\anaconda3\\envs\\pytorch\\lib\\site-packages (from CFFI>=1.0->sounddevice>=0.4.4->mediapipe) (2.21)\n",
      "Requirement already satisfied: zipp>=3.1.0 in c:\\users\\hjjh2\\anaconda3\\envs\\pytorch\\lib\\site-packages (from importlib-resources>=3.2.0->matplotlib->mediapipe) (3.10.0)\n",
      "Requirement already satisfied: six>=1.5 in c:\\users\\hjjh2\\anaconda3\\envs\\pytorch\\lib\\site-packages (from python-dateutil>=2.7->matplotlib->mediapipe) (1.16.0)\n",
      "Note: you may need to restart the kernel to use updated packages.\n"
     ]
    },
    {
     "name": "stderr",
     "output_type": "stream",
     "text": [
      "WARNING: Ignoring invalid distribution -pencv-python (c:\\users\\hjjh2\\anaconda3\\envs\\pytorch\\lib\\site-packages)\n",
      "WARNING: Ignoring invalid distribution -pencv-python (c:\\users\\hjjh2\\anaconda3\\envs\\pytorch\\lib\\site-packages)\n",
      "WARNING: Ignoring invalid distribution -pencv-python (c:\\users\\hjjh2\\anaconda3\\envs\\pytorch\\lib\\site-packages)\n",
      "WARNING: Ignoring invalid distribution -pencv-python (c:\\users\\hjjh2\\anaconda3\\envs\\pytorch\\lib\\site-packages)\n",
      "WARNING: Ignoring invalid distribution -pencv-python (c:\\users\\hjjh2\\anaconda3\\envs\\pytorch\\lib\\site-packages)\n",
      "WARNING: Ignoring invalid distribution -pencv-python (c:\\users\\hjjh2\\anaconda3\\envs\\pytorch\\lib\\site-packages)\n"
     ]
    }
   ],
   "source": [
    "pip install mediapipe opencv-python"
   ]
  },
  {
   "cell_type": "code",
   "execution_count": 2,
   "metadata": {},
   "outputs": [],
   "source": [
    "import cv2\n",
    "import mediapipe as mp \n",
    "import numpy as np"
   ]
  },
  {
   "cell_type": "code",
   "execution_count": 3,
   "metadata": {},
   "outputs": [],
   "source": [
    "import os\n",
    "import pandas as pd"
   ]
  },
  {
   "cell_type": "code",
   "execution_count": 4,
   "metadata": {},
   "outputs": [],
   "source": [
    "mp_drawing = mp.solutions.drawing_utils #drawing utilites, visualizing "
   ]
  },
  {
   "cell_type": "code",
   "execution_count": 5,
   "metadata": {},
   "outputs": [],
   "source": [
    "mp_pose = mp.solutions.pose # importing(garbbing) our pose estimation model"
   ]
  },
  {
   "cell_type": "code",
   "execution_count": 6,
   "metadata": {},
   "outputs": [],
   "source": [
    "mp_holistic = mp.solutions.holistic"
   ]
  },
  {
   "cell_type": "markdown",
   "metadata": {},
   "source": [
    "<img src=\"https://i.imgur.com/3j8BPdc.png\" style=\"height:300px\" >"
   ]
  },
  {
   "cell_type": "markdown",
   "metadata": {},
   "source": [
    "##"
   ]
  },
  {
   "cell_type": "markdown",
   "metadata": {},
   "source": [
    "고개 기울어짐 체크 : YOLO  \n",
    "눈 감은 것 체크 : MEDIAPIPE"
   ]
  },
  {
   "cell_type": "markdown",
   "metadata": {},
   "source": []
  }
 ],
 "metadata": {
  "kernelspec": {
   "display_name": "pytorch",
   "language": "python",
   "name": "python3"
  },
  "language_info": {
   "codemirror_mode": {
    "name": "ipython",
    "version": 3
   },
   "file_extension": ".py",
   "mimetype": "text/x-python",
   "name": "python",
   "nbconvert_exporter": "python",
   "pygments_lexer": "ipython3",
   "version": "3.8.13"
  },
  "orig_nbformat": 4
 },
 "nbformat": 4,
 "nbformat_minor": 2
}
